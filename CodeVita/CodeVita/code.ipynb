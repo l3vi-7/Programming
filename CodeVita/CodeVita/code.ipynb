{
 "metadata": {
  "language_info": {
   "codemirror_mode": {
    "name": "ipython",
    "version": 3
   },
   "file_extension": ".py",
   "mimetype": "text/x-python",
   "name": "python",
   "nbconvert_exporter": "python",
   "pygments_lexer": "ipython3",
   "version": "3.6.5-final"
  },
  "orig_nbformat": 2,
  "kernelspec": {
   "name": "python3",
   "display_name": "Python 3"
  }
 },
 "nbformat": 4,
 "nbformat_minor": 2,
 "cells": [
  {
   "cell_type": "code",
   "execution_count": 1,
   "metadata": {},
   "outputs": [
    {
     "output_type": "execute_result",
     "data": {
      "text/plain": "3"
     },
     "metadata": {},
     "execution_count": 1
    }
   ],
   "source": [
    "1 + 2"
   ]
  },
  {
   "cell_type": "code",
   "execution_count": 7,
   "metadata": {},
   "outputs": [
    {
     "output_type": "execute_result",
     "data": {
      "text/plain": "{'ABC': 1876}"
     },
     "metadata": {},
     "execution_count": 7
    }
   ],
   "source": [
    "N = int(input())\n",
    "buy = []\n",
    "sell = []\n",
    "\n",
    "for _ in range(N):\n",
    "    l = list(input().split())\n",
    "    if l[1] == 'Sell':\n",
    "        sell.append(l)\n",
    "    else:\n",
    "        buy.append(l)\n",
    "\n",
    "trans = {}\n",
    "\n",
    "for l in buy:\n",
    "    stock = l[2]\n",
    "    price = int(l[3])\n",
    "    quan = int(l[4])\n",
    "    for k in sell:\n",
    "        if quan == 0:\n",
    "            break\n",
    "        if k[2] == stock and k[4] != 0:\n",
    "            if price >= int(k[3]):\n",
    "                if quan < int(k[4]):\n",
    "                    k[4] = int(k[4]) - quan\n",
    "                    quan = 0\n",
    "                elif quan >= int(k[4]):\n",
    "                    k[4] = 0\n",
    "                    quan -= int(k[4])\n",
    "                trans[stock] = min(price, int(k[3]))\n",
    "\n",
    "trans"
   ]
  },
  {
   "cell_type": "code",
   "execution_count": 8,
   "metadata": {},
   "outputs": [
    {
     "output_type": "execute_result",
     "data": {
      "text/plain": "[['1', 'Sell', 'ABC', '1876', 0], ['2', 'Sell', 'DEF', '7160', '221']]"
     },
     "metadata": {},
     "execution_count": 8
    }
   ],
   "source": [
    "sell\n"
   ]
  },
  {
   "cell_type": "code",
   "execution_count": 9,
   "metadata": {},
   "outputs": [
    {
     "output_type": "execute_result",
     "data": {
      "text/plain": "1"
     },
     "metadata": {},
     "execution_count": 9
    }
   ],
   "source": [
    "len(trans)"
   ]
  },
  {
   "cell_type": "code",
   "execution_count": null,
   "metadata": {},
   "outputs": [],
   "source": [
    "# cook your dish here\n",
    "N = int(input())\n",
    "buy = []\n",
    "sell = []\n",
    "\n",
    "for _ in range(N):\n",
    "    l = list(input().split())\n",
    "    if l[1] == 'Sell':\n",
    "        sell.append(l)\n",
    "    else:\n",
    "        buy.append(l)\n",
    "\n",
    "#print(buy)\n",
    "\n",
    "#print(sell)\n",
    "\n",
    "trans = {}\n",
    "\n",
    "for i in range(len(buy)):\n",
    "    stock = buy[i][2]\n",
    "    price = int(buy[i][3])\n",
    "    quan = int(buy[i][4])\n",
    "    #print(stock)\n",
    "    for k in sell:\n",
    "        #print(k[2])\n",
    "        if quan == 0:\n",
    "            break\n",
    "        #print(l[0], k[0], k[4])\n",
    "        if k[2] == stock and k[4] != 0:\n",
    "            if price >= int(k[3]):\n",
    "                if quan < int(k[4]):\n",
    "                    k[4] = int(k[4]) - quan\n",
    "                    quan = 0\n",
    "                    buy.pop(i)\n",
    "                elif quan >= int(k[4]):\n",
    "                    k[4] = 0\n",
    "                    quan -= int(k[4])\n",
    "                trans[stock] = min(price, int(k[3]))\n",
    "                if (k[4] == 0):\n",
    "                    sell.remove(k)\n",
    "                #print(trans[stock])\n",
    "        #print(l[0], k[0], k[4])\n",
    "\n",
    "if (len(trans) == 0):\n",
    "    print(\"Stocks not traded\")\n",
    "else:\n",
    "    for i in sorted(trans.keys()):\n",
    "        print(i, end=':')\n",
    "        print(trans[i])"
   ]
  },
  {
   "cell_type": "code",
   "execution_count": 18,
   "metadata": {},
   "outputs": [],
   "source": [
    "n = int(input())\n",
    "buy = {}\n",
    "sell = {}\n",
    "\n",
    "trans = {}\n",
    "\n",
    "for i in range(n):\n",
    "    x, y, z, w,t = input().split()\n",
    "    # d = {}\n",
    "    # d[trade_id] = int(x);\n",
    "    # d[trade_type] = y;\n",
    "    # d[stock] = z;\n",
    "    # d[price] = w;\n",
    "    # d[q] = t;\n",
    "    l = [int(x),y,z, int(w),int(t)];\n",
    "    if (l[1] == 'Sell'):\n",
    "        if l[2] in sell.keys():\n",
    "            sell[l[2]].append(l)\n",
    "        else:\n",
    "            sell[l[2]] = [l]\n",
    "    else:\n",
    "        if l[2] in buy.keys():\n",
    "            buy[l[2]].append(l)\n",
    "        else:\n",
    "            buy[l[2]] = [l]\n",
    "\n",
    "for key in buy.keys():\n",
    "    print(\"debug\")\n",
    "    if key in sell:\n",
    "        for stk in buy[key]:\n",
    "            if stk[4] == 0:\n",
    "                continue\n",
    "            for sell_stk in sell[key]:\n",
    "                if sell_stk[4] == 0:\n",
    "                    continue\n",
    "                if stk[3] >= sell_stk[3]:\n",
    "                    if stk[4] < sell_stk[4]:\n",
    "                        sell_stk[4] -= stk[4]\n",
    "                        stk[4] = 0\n",
    "                    elif stk[4] > sell_stk[4]:\n",
    "                        stk[4] -= sell_stk[4]\n",
    "                        sell_stk[4] = 0\n",
    "                    else:\n",
    "                        sell_stk[4] = 0\n",
    "                        stk[4] = 0\n",
    "                    trans[key] = min(stk[3], sell_stk[3])"
   ]
  },
  {
   "cell_type": "code",
   "execution_count": 12,
   "metadata": {},
   "outputs": [
    {
     "output_type": "execute_result",
     "data": {
      "text/plain": "{'ABC': [['3', 'Buy', 'ABC', '6986', '864']]}"
     },
     "metadata": {},
     "execution_count": 12
    }
   ],
   "source": [
    "buy\n"
   ]
  },
  {
   "cell_type": "code",
   "execution_count": 15,
   "metadata": {},
   "outputs": [
    {
     "output_type": "execute_result",
     "data": {
      "text/plain": "{'ABC': [[1, 'Sell', 'ABC', 1876, 173], [2, 'Sell', 'ABC', 1876, 173]]}"
     },
     "metadata": {},
     "execution_count": 15
    }
   ],
   "source": [
    "sell"
   ]
  },
  {
   "cell_type": "code",
   "execution_count": 16,
   "metadata": {},
   "outputs": [],
   "source": [
    "kes = {}"
   ]
  },
  {
   "cell_type": "code",
   "execution_count": 20,
   "metadata": {},
   "outputs": [
    {
     "output_type": "execute_result",
     "data": {
      "text/plain": "{}"
     },
     "metadata": {},
     "execution_count": 20
    }
   ],
   "source": [
    "trans"
   ]
  },
  {
   "cell_type": "code",
   "execution_count": null,
   "metadata": {},
   "outputs": [],
   "source": []
  }
 ]
}