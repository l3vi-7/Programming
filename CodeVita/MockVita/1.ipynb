{
 "cells": [
  {
   "cell_type": "code",
   "execution_count": null,
   "metadata": {},
   "outputs": [],
   "source": [
    "print(\"Hello World\")\n"
   ]
  },
  {
   "cell_type": "markdown",
   "metadata": {},
   "source": []
  },
  {
   "cell_type": "code",
   "execution_count": 6,
   "metadata": {},
   "outputs": [
    {
     "output_type": "stream",
     "name": "stdout",
     "text": "aa\n"
    }
   ],
   "source": [
    "for i in range(int(input())):\n",
    "    s = input()\n",
    "    t = \"\"\n",
    "    for i in range(len(s)):\n",
    "        if i != 0 and i != len(s) - 1 and i % 2 == 0:\n",
    "            pass\n",
    "        else:\n",
    "            t += s[i]\n",
    "\n",
    "    print(t)\n"
   ]
  },
  {
   "cell_type": "code",
   "execution_count": 8,
   "metadata": {},
   "outputs": [
    {
     "output_type": "stream",
     "name": "stdout",
     "text": "-1\n0\n"
    }
   ],
   "source": [
    "for i in range(int(input())):\n",
    "    n = int(input())\n",
    "    a = list(map(int, input().split()))\n",
    "    neve = 0\n",
    "    nodd = 0\n",
    "    for i in range(n):\n",
    "        if i % 2 == 0 and a[i] % 2 != 0:\n",
    "            nodd += 1\n",
    "        if i % 2 != 0 and a[i] % 2 == 0:\n",
    "            neve += 1\n",
    "    if nodd != neve:\n",
    "        print(-1)\n",
    "    else:\n",
    "        print(neve)"
   ]
  },
  {
   "cell_type": "code",
   "execution_count": 19,
   "metadata": {},
   "outputs": [
    {
     "output_type": "stream",
     "name": "stdout",
     "text": "1   100\n2   000\n3   001\n1\n"
    }
   ],
   "source": [
    "for i in range(int(input())):\n",
    "    n, k = map(int, input().split())\n",
    "    s = input()\n",
    "    t = \"0\" * k + \"0\" + \"0\" * k\n",
    "    #print(t)\n",
    "    count = 0\n",
    "    for i in range(k):\n",
    "        if s[i] == '0':\n",
    "            print (i, \" \", s[: i + k + 1])\n",
    "            if s[: i + k + 1] == t[k - i:]:\n",
    "                count += 1\n",
    "    for i in range(k, n - k):\n",
    "        if (s[i] == '0'):\n",
    "            print (i, \" \", s[i - k: i + k + 1])\n",
    "            if s[i - k: i + k + 1] == t:\n",
    "                count += 1\n",
    "    j = 0\n",
    "    for i in range(n - k, n):\n",
    "        if (s[i] == '0'):\n",
    "            print (i, \" \", s[i - k:])\n",
    "            if s[i - k:] == t[: len(t) - j]:\n",
    "                count += 1\n",
    "            j += 1\n",
    "    \n",
    "    print(count)"
   ]
  },
  {
   "cell_type": "code",
   "execution_count": 9,
   "metadata": {},
   "outputs": [
    {
     "output_type": "stream",
     "name": "stdout",
     "text": "00000\n"
    }
   ],
   "source": [
    "k = 2\n",
    "t = \"0\" * k + \"0\" + \"0\" * k\n",
    "print(t)"
   ]
  },
  {
   "cell_type": "code",
   "execution_count": null,
   "metadata": {},
   "outputs": [],
   "source": []
  }
 ],
 "metadata": {
  "language_info": {
   "codemirror_mode": {
    "name": "ipython",
    "version": 3
   },
   "file_extension": ".py",
   "mimetype": "text/x-python",
   "name": "python",
   "nbconvert_exporter": "python",
   "pygments_lexer": "ipython3",
   "version": "3.6.5-final"
  },
  "orig_nbformat": 2,
  "kernelspec": {
   "name": "python3",
   "display_name": "Python 3"
  }
 },
 "nbformat": 4,
 "nbformat_minor": 2
}