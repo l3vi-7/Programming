{
 "cells": [
  {
   "cell_type": "code",
   "execution_count": 42,
   "metadata": {},
   "outputs": [
    {
     "name": "stdout",
     "output_type": "stream",
     "text": [
      "1\n",
      "4 3\n",
      "[(1, 1), (2, 1), (3, 1), (4, 1), (1, 2), (2, 2), (3, 2), (4, 2), (1, 3), (2, 3), (3, 3), (4, 3)]\n"
     ]
    }
   ],
   "source": [
    "for t in range(int(input())):\n",
    "    r, s = map(int, input().split())\n",
    "    d = []\n",
    "    for i in range(1, s+ 1):\n",
    "        for j in range(1, r + 1):\n",
    "            d.append((j, i))\n",
    "            \n",
    "    count = 0\n",
    "    A = []\n",
    "    B = []\n",
    "    a = r * (s -1)\n",
    "    b = r -1\n",
    "    it = 0\n",
    "    print(\"Case #\", end=\"\")\n",
    "    print(t + 1, end=\"\")\n",
    "    while (b > 0):\n",
    "        A = d[: a]\n",
    "        B = d[a: a+b]\n",
    "        if (len(d[a+b :]) > 1):\n",
    "            d = B + A + d[a+b:]\n",
    "        else:\n",
    "            d = B + A + [d[-1]]\n",
    "        print(d)\n",
    "        a -= 1\n",
    "        it += 1\n",
    "        if it == 2:\n",
    "            b -= 1\n",
    "            it = 0\n",
    "        count +=1\n",
    "        \n",
    "        print(\":\", res)"
   ]
  },
  {
   "cell_type": "code",
   "execution_count": null,
   "metadata": {},
   "outputs": [],
   "source": []
  },
  {
   "cell_type": "code",
   "execution_count": 43,
   "metadata": {},
   "outputs": [
    {
     "name": "stdout",
     "output_type": "stream",
     "text": [
      "[(1, 1), (2, 1), (3, 1), (4, 1), (1, 2), (2, 2), (3, 2), (4, 2)]\n",
      "[(1, 3), (2, 3), (3, 3)]\n",
      "8\n",
      "3\n",
      "[(1, 3), (2, 3), (3, 3), (1, 1), (2, 1), (3, 1), (4, 1), (1, 2), (2, 2), (3, 2), (4, 2), (4, 3)]\n",
      "[(1, 3), (2, 3), (3, 3), (1, 1), (2, 1), (3, 1), (4, 1)]\n",
      "[(1, 2), (2, 2), (3, 2)]\n",
      "7\n",
      "3\n",
      "[(1, 2), (2, 2), (3, 2), (1, 3), (2, 3), (3, 3), (1, 1), (2, 1), (3, 1), (4, 1), (4, 2), (4, 3)]\n",
      "[(1, 2), (2, 2), (3, 2), (1, 3), (2, 3), (3, 3)]\n",
      "[(1, 1), (2, 1)]\n",
      "6\n",
      "2\n",
      "[(1, 1), (2, 1), (1, 2), (2, 2), (3, 2), (1, 3), (2, 3), (3, 3), (3, 1), (4, 1), (4, 2), (4, 3)]\n",
      "[(1, 1), (2, 1), (1, 2), (2, 2), (3, 2)]\n",
      "[(1, 3), (2, 3)]\n",
      "5\n",
      "2\n",
      "[(1, 3), (2, 3), (1, 1), (2, 1), (1, 2), (2, 2), (3, 2), (3, 3), (3, 1), (4, 1), (4, 2), (4, 3)]\n",
      "[(1, 3), (2, 3), (1, 1), (2, 1)]\n",
      "[(1, 2)]\n",
      "4\n",
      "1\n",
      "[(1, 2), (1, 3), (2, 3), (1, 1), (2, 1), (2, 2), (3, 2), (3, 3), (3, 1), (4, 1), (4, 2), (4, 3)]\n",
      "[(1, 2), (1, 3), (2, 3)]\n",
      "[(1, 1)]\n",
      "3\n",
      "1\n",
      "[(1, 1), (1, 2), (1, 3), (2, 3), (2, 1), (2, 2), (3, 2), (3, 3), (3, 1), (4, 1), (4, 2), (4, 3)]\n"
     ]
    }
   ],
   "source": [
    "\n",
    "    "
   ]
  },
  {
   "cell_type": "code",
   "execution_count": 5,
   "metadata": {},
   "outputs": [],
   "source": [
    "A = d[: a]\n",
    "B = d[a : a+b]"
   ]
  },
  {
   "cell_type": "code",
   "execution_count": 6,
   "metadata": {},
   "outputs": [],
   "source": [
    "d = B + A + [d[-1]]"
   ]
  },
  {
   "cell_type": "code",
   "execution_count": 30,
   "metadata": {},
   "outputs": [
    {
     "data": {
      "text/plain": [
       "[(3, 1),\n",
       " (2, 1),\n",
       " (1, 3),\n",
       " (2, 3),\n",
       " (3, 2),\n",
       " (1, 1),\n",
       " (1, 2),\n",
       " (2, 2),\n",
       " (3, 3),\n",
       " (4, 1),\n",
       " (4, 2),\n",
       " (3, 1),\n",
       " (2, 1),\n",
       " (1, 3),\n",
       " (2, 3),\n",
       " (3, 2),\n",
       " (1, 1),\n",
       " (1, 2),\n",
       " (2, 2),\n",
       " (3, 3),\n",
       " (4, 1),\n",
       " (4, 2),\n",
       " (4, 3)]"
      ]
     },
     "execution_count": 30,
     "metadata": {},
     "output_type": "execute_result"
    }
   ],
   "source": [
    "d"
   ]
  },
  {
   "cell_type": "code",
   "execution_count": null,
   "metadata": {},
   "outputs": [],
   "source": [
    "while (b > 1):\n",
    "    A = d[: a]\n",
    "    B = d[a: a+b]\n",
    "    if (len(d[a+b :]) > 1):\n",
    "        d = A + B + d[a+b:]\n",
    "    else:\n",
    "        d = A + B + [d[-1]]\n",
    "    a -= 1\n",
    "    if len(d[a + b:]) % s == 0:\n",
    "        b -= 1\n",
    "        it = 0\n",
    "    it += 1\n",
    "    count +=1\n",
    "    "
   ]
  }
 ],
 "metadata": {
  "kernelspec": {
   "display_name": "Python 3",
   "language": "python",
   "name": "python3"
  },
  "language_info": {
   "codemirror_mode": {
    "name": "ipython",
    "version": 3
   },
   "file_extension": ".py",
   "mimetype": "text/x-python",
   "name": "python",
   "nbconvert_exporter": "python",
   "pygments_lexer": "ipython3",
   "version": "3.6.5"
  }
 },
 "nbformat": 4,
 "nbformat_minor": 2
}
