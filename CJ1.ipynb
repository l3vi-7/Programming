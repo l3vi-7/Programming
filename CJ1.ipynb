{
 "cells": [
  {
   "cell_type": "code",
   "execution_count": 4,
   "metadata": {},
   "outputs": [
    {
     "name": "stdout",
     "output_type": "stream",
     "text": [
      "4\n",
      "2 3\n",
      "Case #1: SEN\n",
      "-2 -3\n",
      "Case #2: NWS\n",
      "3 0\n",
      "Case #3: EE\n",
      "-1 1\n",
      "Case #4: IMPOSSIBLE\n"
     ]
    }
   ],
   "source": [
    "import math\n",
    "for t in range(int(input())):\n",
    "    x, y = map(int, input().split())\n",
    "    \n",
    "    if (((abs(x) + abs(y)) & 1) == 0):\n",
    "        print(\"Case #\", end=\"\")\n",
    "        print(t + 1, end=\"\")\n",
    "        print(\":\", \"IMPOSSIBLE\")\n",
    "    else:\n",
    "        stp = math.floor(math.log((abs(x) + abs(y)), 2))\n",
    "        val = 1 << stp\n",
    "        res = \"\"\n",
    "        \n",
    "        i = stp\n",
    "        while (i >= 0) :\n",
    "            i -= 1\n",
    "            if (abs(x) > abs(y)):\n",
    "                if x > 0:\n",
    "                    x -= val\n",
    "                    res += \"E\"\n",
    "                else:\n",
    "                    x += val;\n",
    "                    res += \"W\"\n",
    "            else:\n",
    "                if y > 0:\n",
    "                    y -= val\n",
    "                    res += \"N\"\n",
    "                else:\n",
    "                    y += val;\n",
    "                    res += \"S\"\n",
    "            val /= 2\n",
    "        \n",
    "        res = res[::-1]\n",
    "        print(\"Case #\", end=\"\")\n",
    "        print(t + 1, end=\"\")\n",
    "        print(\":\", res)"
   ]
  },
  {
   "cell_type": "code",
   "execution_count": null,
   "metadata": {},
   "outputs": [],
   "source": [
    "4\n",
    "2 3\n",
    "-2 -3\n",
    "3 0\n",
    "-1 1"
   ]
  }
 ],
 "metadata": {
  "kernelspec": {
   "display_name": "Python 3",
   "language": "python",
   "name": "python3"
  },
  "language_info": {
   "codemirror_mode": {
    "name": "ipython",
    "version": 3
   },
   "file_extension": ".py",
   "mimetype": "text/x-python",
   "name": "python",
   "nbconvert_exporter": "python",
   "pygments_lexer": "ipython3",
   "version": "3.6.5"
  }
 },
 "nbformat": 4,
 "nbformat_minor": 2
}
